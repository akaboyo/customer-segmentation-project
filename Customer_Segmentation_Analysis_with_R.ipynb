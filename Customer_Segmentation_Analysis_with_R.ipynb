{
  "metadata": {
    "kernelspec": {
      "name": "ir",
      "display_name": "R",
      "language": "R"
    },
    "language_info": {
      "name": "R",
      "codemirror_mode": "r",
      "pygments_lexer": "r",
      "mimetype": "text/x-r-source",
      "file_extension": ".r",
      "version": "4.4.0"
    },
    "kaggle": {
      "accelerator": "none",
      "dataSources": [
        {
          "sourceId": 9657559,
          "sourceType": "datasetVersion",
          "datasetId": 5899852
        }
      ],
      "dockerImageVersionId": 30749,
      "isInternetEnabled": true,
      "language": "r",
      "sourceType": "notebook",
      "isGpuEnabled": false
    },
    "colab": {
      "provenance": [],
      "include_colab_link": true
    }
  },
  "nbformat_minor": 0,
  "nbformat": 4,
  "cells": [
    {
      "cell_type": "markdown",
      "metadata": {
        "id": "view-in-github",
        "colab_type": "text"
      },
      "source": [
        "<a href=\"https://colab.research.google.com/github/akaboyo/customer-segmentation-project/blob/main/Customer_Segmentation_Analysis_with_R.ipynb\" target=\"_parent\"><img src=\"https://colab.research.google.com/assets/colab-badge.svg\" alt=\"Open In Colab\"/></a>"
      ]
    },
    {
      "source": [
        "\n",
        "# IMPORTANT: RUN THIS CELL IN ORDER TO IMPORT YOUR KAGGLE DATA SOURCES\n",
        "# TO THE CORRECT LOCATION (/kaggle/input) IN YOUR NOTEBOOK,\n",
        "# THEN FEEL FREE TO DELETE THIS CELL.\n",
        "# NOTE: THIS NOTEBOOK ENVIRONMENT DIFFERS FROM KAGGLE'S R\n",
        "# ENVIRONMENT SO THERE MAY BE MISSING LIBRARIES USED BY YOUR\n",
        "# NOTEBOOK.\n",
        "\n",
        "DATA_SOURCE_MAPPING = 'quantium-data-analytics-project-with-r:https%3A%2F%2Fstorage.googleapis.com%2Fkaggle-data-sets%2F5899852%2F9657559%2Fbundle%2Farchive.zip%3FX-Goog-Algorithm%3DGOOG4-RSA-SHA256%26X-Goog-Credential%3Dgcp-kaggle-com%2540kaggle-161607.iam.gserviceaccount.com%252F20241028%252Fauto%252Fstorage%252Fgoog4_request%26X-Goog-Date%3D20241028T120313Z%26X-Goog-Expires%3D259200%26X-Goog-SignedHeaders%3Dhost%26X-Goog-Signature%3D7b93481cbc72f316ce49444ddd462a1d88b376d497c24a715e8a7fdd95449988ae00474cca9b882f247df6d2d50b65fe01d5e8b3850ab02d56337568723ea7b9044f3480b43767e775d567a6a5a31760b5ac55b90a765bf474ac189fdb3620f145e4e85e6b3594204179eb58a44694812a9e25170846594249454ac73ea6fe24f5fea4ab2e00f86003d8843b1d99d54550eda39863a80de7efeb333350857a1acc8a3921e325e48937bbf38e6ac9396189161d02cc730f9f70272f49ffacbf892397a49f9297830dd0a85010c71c7beabe5b0f76bcb89c8750f95260daea59439b6561d8e0fcca3ff503ff93904d9793bfbffd78c83a8c4ee72ee13a3c60bedc'\n",
        "\n",
        "KAGGLE_INPUT_PATH = '/kaggle/input'\n",
        "KAGGLE_WORKING_PATH = '/kaggle/working'\n",
        "\n",
        "system(paste0('sudo umount ', '/kaggle/input'))\n",
        "system(paste0('sudo rmdir ', '/kaggle/input'))\n",
        "system(paste0('sudo mkdir -p -- ', KAGGLE_INPUT_PATH), intern=TRUE)\n",
        "system(paste0('sudo chmod 777 ', KAGGLE_INPUT_PATH), intern=TRUE)\n",
        "system(\n",
        "  paste0('sudo ln -sfn ', KAGGLE_INPUT_PATH,' ',file.path('..', 'input')),\n",
        "  intern=TRUE)\n",
        "\n",
        "system(paste0('sudo mkdir -p -- ', KAGGLE_WORKING_PATH), intern=TRUE)\n",
        "system(paste0('sudo chmod 777 ', KAGGLE_WORKING_PATH), intern=TRUE)\n",
        "system(\n",
        "  paste0('sudo ln -sfn ', KAGGLE_WORKING_PATH, ' ', file.path('..', 'working')),\n",
        "  intern=TRUE)\n",
        "\n",
        "data_source_mappings = strsplit(DATA_SOURCE_MAPPING, ',')[[1]]\n",
        "for (data_source_mapping in data_source_mappings) {\n",
        "    path_and_url = strsplit(data_source_mapping, ':')\n",
        "    directory = path_and_url[[1]][1]\n",
        "    download_url = URLdecode(path_and_url[[1]][2])\n",
        "    filename = sub(\"\\\\?.+\", \"\", download_url)\n",
        "    destination_path = file.path(KAGGLE_INPUT_PATH, directory)\n",
        "    print(paste0('Downloading and uncompressing: ', directory))\n",
        "    if (endsWith(filename, '.zip')){\n",
        "      temp = tempfile(fileext = '.zip')\n",
        "      download.file(download_url, temp)\n",
        "      unzip(temp, overwrite = TRUE, exdir = destination_path)\n",
        "      unlink(temp)\n",
        "    }\n",
        "    else{\n",
        "      temp = tempfile(fileext = '.tar')\n",
        "      download.file(download_url, temp)\n",
        "      untar(temp, exdir = destination_path)\n",
        "      unlink(temp)\n",
        "    }\n",
        "    print(paste0('Downloaded and uncompressed: ', directory))\n",
        "}\n",
        "\n",
        "print(paste0('Data source import complete'))\n"
      ],
      "metadata": {
        "id": "BMmPv-UGAlVt",
        "outputId": "33fe7216-831e-4aac-ce4a-3a0c7ee2921d",
        "colab": {
          "base_uri": "https://localhost:8080/",
          "height": 69
        }
      },
      "cell_type": "code",
      "outputs": [
        {
          "output_type": "display_data",
          "data": {
            "text/html": [],
            "text/markdown": "",
            "text/latex": "",
            "text/plain": [
              "character(0)"
            ]
          },
          "metadata": {}
        },
        {
          "output_type": "display_data",
          "data": {
            "text/html": [],
            "text/markdown": "",
            "text/latex": "",
            "text/plain": [
              "character(0)"
            ]
          },
          "metadata": {}
        },
        {
          "output_type": "display_data",
          "data": {
            "text/html": [],
            "text/markdown": "",
            "text/latex": "",
            "text/plain": [
              "character(0)"
            ]
          },
          "metadata": {}
        },
        {
          "output_type": "display_data",
          "data": {
            "text/html": [],
            "text/markdown": "",
            "text/latex": "",
            "text/plain": [
              "character(0)"
            ]
          },
          "metadata": {}
        },
        {
          "output_type": "display_data",
          "data": {
            "text/html": [],
            "text/markdown": "",
            "text/latex": "",
            "text/plain": [
              "character(0)"
            ]
          },
          "metadata": {}
        },
        {
          "output_type": "display_data",
          "data": {
            "text/html": [],
            "text/markdown": "",
            "text/latex": "",
            "text/plain": [
              "character(0)"
            ]
          },
          "metadata": {}
        },
        {
          "output_type": "stream",
          "name": "stdout",
          "text": [
            "[1] \"Downloading and uncompressing: quantium-data-analytics-project-with-r\"\n",
            "[1] \"Downloaded and uncompressed: quantium-data-analytics-project-with-r\"\n",
            "[1] \"Data source import complete\"\n"
          ]
        }
      ],
      "execution_count": null
    },
    {
      "cell_type": "code",
      "source": [
        "# This R environment comes with many helpful analytics packages installed\n",
        "# It is defined by the kaggle/rstats Docker image: https://github.com/kaggle/docker-rstats\n",
        "# For example, here's a helpful package to load\n",
        "\n",
        "library(tidyverse) # metapackage of all tidyverse packages\n",
        "\n",
        "# Input data files are available in the read-only \"../input/\" directory\n",
        "# For example, running this (by clicking run or pressing Shift+Enter) will list all files under the input directory\n",
        "\n",
        "list.files(path = \"../input\")\n",
        "\n",
        "# You can write up to 20GB to the current directory (/kaggle/working/) that gets preserved as output when you create a version using \"Save & Run All\"\n",
        "# You can also write temporary files to /kaggle/temp/, but they won't be saved outside of the current session"
      ],
      "metadata": {
        "_uuid": "051d70d956493feee0c6d64651c6a088724dca2a",
        "_execution_state": "idle",
        "trusted": true,
        "execution": {
          "iopub.status.busy": "2024-10-23T12:11:13.765785Z",
          "iopub.execute_input": "2024-10-23T12:11:13.76773Z",
          "iopub.status.idle": "2024-10-23T12:11:13.793267Z",
          "shell.execute_reply": "2024-10-23T12:11:13.791318Z"
        },
        "id": "pHwKiAxXAlVu",
        "outputId": "ec1afc12-2257-47aa-cf2b-a8cacbb0ae2d",
        "colab": {
          "base_uri": "https://localhost:8080/",
          "height": 208
        }
      },
      "outputs": [
        {
          "output_type": "stream",
          "name": "stderr",
          "text": [
            "── \u001b[1mAttaching core tidyverse packages\u001b[22m ──────────────────────── tidyverse 2.0.0 ──\n",
            "\u001b[32m✔\u001b[39m \u001b[34mdplyr    \u001b[39m 1.1.4     \u001b[32m✔\u001b[39m \u001b[34mreadr    \u001b[39m 2.1.5\n",
            "\u001b[32m✔\u001b[39m \u001b[34mforcats  \u001b[39m 1.0.0     \u001b[32m✔\u001b[39m \u001b[34mstringr  \u001b[39m 1.5.1\n",
            "\u001b[32m✔\u001b[39m \u001b[34mggplot2  \u001b[39m 3.5.1     \u001b[32m✔\u001b[39m \u001b[34mtibble   \u001b[39m 3.2.1\n",
            "\u001b[32m✔\u001b[39m \u001b[34mlubridate\u001b[39m 1.9.3     \u001b[32m✔\u001b[39m \u001b[34mtidyr    \u001b[39m 1.3.1\n",
            "\u001b[32m✔\u001b[39m \u001b[34mpurrr    \u001b[39m 1.0.2     \n",
            "── \u001b[1mConflicts\u001b[22m ────────────────────────────────────────── tidyverse_conflicts() ──\n",
            "\u001b[31m✖\u001b[39m \u001b[34mdplyr\u001b[39m::\u001b[32mfilter()\u001b[39m masks \u001b[34mstats\u001b[39m::filter()\n",
            "\u001b[31m✖\u001b[39m \u001b[34mdplyr\u001b[39m::\u001b[32mlag()\u001b[39m    masks \u001b[34mstats\u001b[39m::lag()\n",
            "\u001b[36mℹ\u001b[39m Use the conflicted package (\u001b[3m\u001b[34m<http://conflicted.r-lib.org/>\u001b[39m\u001b[23m) to force all conflicts to become errors\n"
          ]
        },
        {
          "output_type": "display_data",
          "data": {
            "text/html": [
              "'quantium-data-analytics-project-with-r'"
            ],
            "text/markdown": "'quantium-data-analytics-project-with-r'",
            "text/latex": "'quantium-data-analytics-project-with-r'",
            "text/plain": [
              "[1] \"quantium-data-analytics-project-with-r\""
            ]
          },
          "metadata": {}
        }
      ],
      "execution_count": null
    },
    {
      "cell_type": "markdown",
      "source": [
        "# Project Objective\n",
        "The goal of this analysis is to uncover key insights into customer purchasing behaviors within the chips category, using segmentation based on LIFESTAGE and PREMIUM_CUSTOMER attributes. The insights will provide actionable recommendations to Julia, the Category Manager, as she prepares for the upcoming category review. By identifying high-value customer segments, understanding their preferences, and pinpointing sales drivers, the analysis will inform targeted strategies to optimize product offerings, promotions, and pricing, ultimately driving revenue growth and customer engagement."
      ],
      "metadata": {
        "id": "r1HnJkFfAlVv"
      }
    },
    {
      "cell_type": "markdown",
      "source": [
        "# Load necessary libraries\n",
        "\n",
        "To install the necessary libraries and load the datasets, We will use readxl to load the Excel file while the read.csv function will be used to load the CSV file."
      ],
      "metadata": {
        "id": "SK3ehi6RAlVv"
      }
    },
    {
      "cell_type": "code",
      "source": [
        "# Install necessary packages if you haven't already\n",
        "install.packages(\"readxl\")  # For reading Excel files\n",
        "\n",
        "# Load the required libraries\n",
        "library(readxl)\n",
        "\n",
        "# Load the Excel transaction data\n",
        "transaction_data <- read_excel(\"/kaggle/input/quantium-data-analytics-project-with-r/QVI_transaction_data.xlsx\")\n",
        "\n",
        "# Load the CSV customer purchase behavior data\n",
        "purchase_data <- read.csv(\"/kaggle/input/quantium-data-analytics-project-with-r/QVI_purchase_behaviour.csv\")\n",
        "\n",
        "# Display the first few rows of each dataset to check if loaded correctly\n",
        "head(transaction_data)\n",
        "head(purchase_data)\n"
      ],
      "metadata": {
        "trusted": true,
        "execution": {
          "iopub.status.busy": "2024-10-23T12:11:13.797627Z",
          "iopub.execute_input": "2024-10-23T12:11:13.800111Z",
          "iopub.status.idle": "2024-10-23T12:11:43.504885Z",
          "shell.execute_reply": "2024-10-23T12:11:43.50308Z"
        },
        "id": "qo0HSDoPAlVw",
        "outputId": "78af30ed-8f9c-4992-dfb2-b0b58669beeb",
        "colab": {
          "base_uri": "https://localhost:8080/",
          "height": 608
        }
      },
      "outputs": [
        {
          "output_type": "stream",
          "name": "stderr",
          "text": [
            "Installing package into ‘/usr/local/lib/R/site-library’\n",
            "(as ‘lib’ is unspecified)\n",
            "\n"
          ]
        },
        {
          "output_type": "display_data",
          "data": {
            "text/html": [
              "<table class=\"dataframe\">\n",
              "<caption>A tibble: 6 × 8</caption>\n",
              "<thead>\n",
              "\t<tr><th scope=col>DATE</th><th scope=col>STORE_NBR</th><th scope=col>LYLTY_CARD_NBR</th><th scope=col>TXN_ID</th><th scope=col>PROD_NBR</th><th scope=col>PROD_NAME</th><th scope=col>PROD_QTY</th><th scope=col>TOT_SALES</th></tr>\n",
              "\t<tr><th scope=col>&lt;dbl&gt;</th><th scope=col>&lt;dbl&gt;</th><th scope=col>&lt;dbl&gt;</th><th scope=col>&lt;dbl&gt;</th><th scope=col>&lt;dbl&gt;</th><th scope=col>&lt;chr&gt;</th><th scope=col>&lt;dbl&gt;</th><th scope=col>&lt;dbl&gt;</th></tr>\n",
              "</thead>\n",
              "<tbody>\n",
              "\t<tr><td>43390</td><td>1</td><td>1000</td><td>   1</td><td>  5</td><td>Natural Chip        Compny SeaSalt175g  </td><td>2</td><td> 6.0</td></tr>\n",
              "\t<tr><td>43599</td><td>1</td><td>1307</td><td> 348</td><td> 66</td><td>CCs Nacho Cheese    175g                </td><td>3</td><td> 6.3</td></tr>\n",
              "\t<tr><td>43605</td><td>1</td><td>1343</td><td> 383</td><td> 61</td><td>Smiths Crinkle Cut  Chips Chicken 170g  </td><td>2</td><td> 2.9</td></tr>\n",
              "\t<tr><td>43329</td><td>2</td><td>2373</td><td> 974</td><td> 69</td><td><span style=white-space:pre-wrap>Smiths Chip Thinly  S/Cream&amp;Onion 175g  </span></td><td>5</td><td>15.0</td></tr>\n",
              "\t<tr><td>43330</td><td>2</td><td>2426</td><td>1038</td><td>108</td><td>Kettle Tortilla ChpsHny&amp;Jlpno Chili 150g</td><td>3</td><td>13.8</td></tr>\n",
              "\t<tr><td>43604</td><td>4</td><td>4074</td><td>2982</td><td> 57</td><td>Old El Paso Salsa   Dip Tomato Mild 300g</td><td>1</td><td> 5.1</td></tr>\n",
              "</tbody>\n",
              "</table>\n"
            ],
            "text/markdown": "\nA tibble: 6 × 8\n\n| DATE &lt;dbl&gt; | STORE_NBR &lt;dbl&gt; | LYLTY_CARD_NBR &lt;dbl&gt; | TXN_ID &lt;dbl&gt; | PROD_NBR &lt;dbl&gt; | PROD_NAME &lt;chr&gt; | PROD_QTY &lt;dbl&gt; | TOT_SALES &lt;dbl&gt; |\n|---|---|---|---|---|---|---|---|\n| 43390 | 1 | 1000 |    1 |   5 | Natural Chip        Compny SeaSalt175g   | 2 |  6.0 |\n| 43599 | 1 | 1307 |  348 |  66 | CCs Nacho Cheese    175g                 | 3 |  6.3 |\n| 43605 | 1 | 1343 |  383 |  61 | Smiths Crinkle Cut  Chips Chicken 170g   | 2 |  2.9 |\n| 43329 | 2 | 2373 |  974 |  69 | Smiths Chip Thinly  S/Cream&amp;Onion 175g   | 5 | 15.0 |\n| 43330 | 2 | 2426 | 1038 | 108 | Kettle Tortilla ChpsHny&amp;Jlpno Chili 150g | 3 | 13.8 |\n| 43604 | 4 | 4074 | 2982 |  57 | Old El Paso Salsa   Dip Tomato Mild 300g | 1 |  5.1 |\n\n",
            "text/latex": "A tibble: 6 × 8\n\\begin{tabular}{llllllll}\n DATE & STORE\\_NBR & LYLTY\\_CARD\\_NBR & TXN\\_ID & PROD\\_NBR & PROD\\_NAME & PROD\\_QTY & TOT\\_SALES\\\\\n <dbl> & <dbl> & <dbl> & <dbl> & <dbl> & <chr> & <dbl> & <dbl>\\\\\n\\hline\n\t 43390 & 1 & 1000 &    1 &   5 & Natural Chip        Compny SeaSalt175g   & 2 &  6.0\\\\\n\t 43599 & 1 & 1307 &  348 &  66 & CCs Nacho Cheese    175g                 & 3 &  6.3\\\\\n\t 43605 & 1 & 1343 &  383 &  61 & Smiths Crinkle Cut  Chips Chicken 170g   & 2 &  2.9\\\\\n\t 43329 & 2 & 2373 &  974 &  69 & Smiths Chip Thinly  S/Cream\\&Onion 175g   & 5 & 15.0\\\\\n\t 43330 & 2 & 2426 & 1038 & 108 & Kettle Tortilla ChpsHny\\&Jlpno Chili 150g & 3 & 13.8\\\\\n\t 43604 & 4 & 4074 & 2982 &  57 & Old El Paso Salsa   Dip Tomato Mild 300g & 1 &  5.1\\\\\n\\end{tabular}\n",
            "text/plain": [
              "  DATE  STORE_NBR LYLTY_CARD_NBR TXN_ID PROD_NBR\n",
              "1 43390 1         1000              1     5     \n",
              "2 43599 1         1307            348    66     \n",
              "3 43605 1         1343            383    61     \n",
              "4 43329 2         2373            974    69     \n",
              "5 43330 2         2426           1038   108     \n",
              "6 43604 4         4074           2982    57     \n",
              "  PROD_NAME                                PROD_QTY TOT_SALES\n",
              "1 Natural Chip        Compny SeaSalt175g   2         6.0     \n",
              "2 CCs Nacho Cheese    175g                 3         6.3     \n",
              "3 Smiths Crinkle Cut  Chips Chicken 170g   2         2.9     \n",
              "4 Smiths Chip Thinly  S/Cream&Onion 175g   5        15.0     \n",
              "5 Kettle Tortilla ChpsHny&Jlpno Chili 150g 3        13.8     \n",
              "6 Old El Paso Salsa   Dip Tomato Mild 300g 1         5.1     "
            ]
          },
          "metadata": {}
        },
        {
          "output_type": "display_data",
          "data": {
            "text/html": [
              "<table class=\"dataframe\">\n",
              "<caption>A data.frame: 6 × 3</caption>\n",
              "<thead>\n",
              "\t<tr><th></th><th scope=col>LYLTY_CARD_NBR</th><th scope=col>LIFESTAGE</th><th scope=col>PREMIUM_CUSTOMER</th></tr>\n",
              "\t<tr><th></th><th scope=col>&lt;int&gt;</th><th scope=col>&lt;chr&gt;</th><th scope=col>&lt;chr&gt;</th></tr>\n",
              "</thead>\n",
              "<tbody>\n",
              "\t<tr><th scope=row>1</th><td>1000</td><td>YOUNG SINGLES/COUPLES </td><td>Premium   </td></tr>\n",
              "\t<tr><th scope=row>2</th><td>1002</td><td>YOUNG SINGLES/COUPLES </td><td>Mainstream</td></tr>\n",
              "\t<tr><th scope=row>3</th><td>1003</td><td>YOUNG FAMILIES        </td><td>Budget    </td></tr>\n",
              "\t<tr><th scope=row>4</th><td>1004</td><td>OLDER SINGLES/COUPLES </td><td>Mainstream</td></tr>\n",
              "\t<tr><th scope=row>5</th><td>1005</td><td>MIDAGE SINGLES/COUPLES</td><td>Mainstream</td></tr>\n",
              "\t<tr><th scope=row>6</th><td>1007</td><td>YOUNG SINGLES/COUPLES </td><td>Budget    </td></tr>\n",
              "</tbody>\n",
              "</table>\n"
            ],
            "text/markdown": "\nA data.frame: 6 × 3\n\n| <!--/--> | LYLTY_CARD_NBR &lt;int&gt; | LIFESTAGE &lt;chr&gt; | PREMIUM_CUSTOMER &lt;chr&gt; |\n|---|---|---|---|\n| 1 | 1000 | YOUNG SINGLES/COUPLES  | Premium    |\n| 2 | 1002 | YOUNG SINGLES/COUPLES  | Mainstream |\n| 3 | 1003 | YOUNG FAMILIES         | Budget     |\n| 4 | 1004 | OLDER SINGLES/COUPLES  | Mainstream |\n| 5 | 1005 | MIDAGE SINGLES/COUPLES | Mainstream |\n| 6 | 1007 | YOUNG SINGLES/COUPLES  | Budget     |\n\n",
            "text/latex": "A data.frame: 6 × 3\n\\begin{tabular}{r|lll}\n  & LYLTY\\_CARD\\_NBR & LIFESTAGE & PREMIUM\\_CUSTOMER\\\\\n  & <int> & <chr> & <chr>\\\\\n\\hline\n\t1 & 1000 & YOUNG SINGLES/COUPLES  & Premium   \\\\\n\t2 & 1002 & YOUNG SINGLES/COUPLES  & Mainstream\\\\\n\t3 & 1003 & YOUNG FAMILIES         & Budget    \\\\\n\t4 & 1004 & OLDER SINGLES/COUPLES  & Mainstream\\\\\n\t5 & 1005 & MIDAGE SINGLES/COUPLES & Mainstream\\\\\n\t6 & 1007 & YOUNG SINGLES/COUPLES  & Budget    \\\\\n\\end{tabular}\n",
            "text/plain": [
              "  LYLTY_CARD_NBR LIFESTAGE              PREMIUM_CUSTOMER\n",
              "1 1000           YOUNG SINGLES/COUPLES  Premium         \n",
              "2 1002           YOUNG SINGLES/COUPLES  Mainstream      \n",
              "3 1003           YOUNG FAMILIES         Budget          \n",
              "4 1004           OLDER SINGLES/COUPLES  Mainstream      \n",
              "5 1005           MIDAGE SINGLES/COUPLES Mainstream      \n",
              "6 1007           YOUNG SINGLES/COUPLES  Budget          "
            ]
          },
          "metadata": {}
        }
      ],
      "execution_count": null
    },
    {
      "cell_type": "markdown",
      "source": [
        "# Basic Structure and Summary\n",
        "Once the datasets are loaded, i checked their structure and summarize them"
      ],
      "metadata": {
        "id": "sfe13Ez1AlVw"
      }
    },
    {
      "cell_type": "code",
      "source": [
        "# Check the structure of both datasets\n",
        "str(transaction_data)\n",
        "str(purchase_data)"
      ],
      "metadata": {
        "trusted": true,
        "execution": {
          "iopub.status.busy": "2024-10-23T12:11:43.50759Z",
          "iopub.execute_input": "2024-10-23T12:11:43.509029Z",
          "iopub.status.idle": "2024-10-23T12:11:43.5353Z",
          "shell.execute_reply": "2024-10-23T12:11:43.533499Z"
        },
        "id": "HLKh3-WOAlVw",
        "outputId": "c3bfd982-e910-40cc-90b3-16d14a0e2e9d",
        "colab": {
          "base_uri": "https://localhost:8080/"
        }
      },
      "outputs": [
        {
          "output_type": "stream",
          "name": "stdout",
          "text": [
            "tibble [264,836 × 8] (S3: tbl_df/tbl/data.frame)\n",
            " $ DATE          : num [1:264836] 43390 43599 43605 43329 43330 ...\n",
            " $ STORE_NBR     : num [1:264836] 1 1 1 2 2 4 4 4 5 7 ...\n",
            " $ LYLTY_CARD_NBR: num [1:264836] 1000 1307 1343 2373 2426 ...\n",
            " $ TXN_ID        : num [1:264836] 1 348 383 974 1038 ...\n",
            " $ PROD_NBR      : num [1:264836] 5 66 61 69 108 57 16 24 42 52 ...\n",
            " $ PROD_NAME     : chr [1:264836] \"Natural Chip        Compny SeaSalt175g\" \"CCs Nacho Cheese    175g\" \"Smiths Crinkle Cut  Chips Chicken 170g\" \"Smiths Chip Thinly  S/Cream&Onion 175g\" ...\n",
            " $ PROD_QTY      : num [1:264836] 2 3 2 5 3 1 1 1 1 2 ...\n",
            " $ TOT_SALES     : num [1:264836] 6 6.3 2.9 15 13.8 5.1 5.7 3.6 3.9 7.2 ...\n",
            "'data.frame':\t72637 obs. of  3 variables:\n",
            " $ LYLTY_CARD_NBR  : int  1000 1002 1003 1004 1005 1007 1009 1010 1011 1012 ...\n",
            " $ LIFESTAGE       : chr  \"YOUNG SINGLES/COUPLES\" \"YOUNG SINGLES/COUPLES\" \"YOUNG FAMILIES\" \"OLDER SINGLES/COUPLES\" ...\n",
            " $ PREMIUM_CUSTOMER: chr  \"Premium\" \"Mainstream\" \"Budget\" \"Mainstream\" ...\n"
          ]
        }
      ],
      "execution_count": null
    },
    {
      "cell_type": "markdown",
      "source": [
        "# Check the number of rows and columns for each dataset"
      ],
      "metadata": {
        "id": "qXeSdSLRAlVx"
      }
    },
    {
      "cell_type": "code",
      "source": [
        "dim(transaction_data)\n",
        "dim(purchase_data)"
      ],
      "metadata": {
        "trusted": true,
        "execution": {
          "iopub.status.busy": "2024-10-23T12:11:43.53799Z",
          "iopub.execute_input": "2024-10-23T12:11:43.539411Z",
          "iopub.status.idle": "2024-10-23T12:11:43.55972Z",
          "shell.execute_reply": "2024-10-23T12:11:43.557934Z"
        },
        "id": "D8xKPLftAlVx",
        "outputId": "7449cdb1-76a6-4774-d2b5-52e328e71947",
        "colab": {
          "base_uri": "https://localhost:8080/",
          "height": 52
        }
      },
      "outputs": [
        {
          "output_type": "display_data",
          "data": {
            "text/html": [
              "<style>\n",
              ".list-inline {list-style: none; margin:0; padding: 0}\n",
              ".list-inline>li {display: inline-block}\n",
              ".list-inline>li:not(:last-child)::after {content: \"\\00b7\"; padding: 0 .5ex}\n",
              "</style>\n",
              "<ol class=list-inline><li>264836</li><li>8</li></ol>\n"
            ],
            "text/markdown": "1. 264836\n2. 8\n\n\n",
            "text/latex": "\\begin{enumerate*}\n\\item 264836\n\\item 8\n\\end{enumerate*}\n",
            "text/plain": [
              "[1] 264836      8"
            ]
          },
          "metadata": {}
        },
        {
          "output_type": "display_data",
          "data": {
            "text/html": [
              "<style>\n",
              ".list-inline {list-style: none; margin:0; padding: 0}\n",
              ".list-inline>li {display: inline-block}\n",
              ".list-inline>li:not(:last-child)::after {content: \"\\00b7\"; padding: 0 .5ex}\n",
              "</style>\n",
              "<ol class=list-inline><li>72637</li><li>3</li></ol>\n"
            ],
            "text/markdown": "1. 72637\n2. 3\n\n\n",
            "text/latex": "\\begin{enumerate*}\n\\item 72637\n\\item 3\n\\end{enumerate*}\n",
            "text/plain": [
              "[1] 72637     3"
            ]
          },
          "metadata": {}
        }
      ],
      "execution_count": null
    },
    {
      "cell_type": "markdown",
      "source": [
        "# Data Cleaning\n",
        "Transaction Data: Look for and correct missing values, outliers, and format inconsistencies in numeric and categorical columns.\n",
        "\n",
        "Customer Data: Similar checks will be done for customer data, with a focus on attributes like LIFESTAGE and PREMIUM_CUSTOMER.\n",
        "\n",
        "After cleaning, i will merge the datasets for a comprehensive view."
      ],
      "metadata": {
        "id": "JRFM-bRIAlVx"
      }
    },
    {
      "cell_type": "code",
      "source": [
        "# Check for missing values in transaction data\n",
        "sum(is.na(transaction_data))\n",
        "sum(is.na(purchase_data))\n",
        "\n",
        "# Display columns with missing values (if any)\n",
        "colSums(is.na(transaction_data))\n",
        "\n",
        "# Remove rows with missing values\n",
        "transaction_data <- transaction_data %>% drop_na()\n",
        "purchase_data <- purchase_data %>% drop_na()"
      ],
      "metadata": {
        "trusted": true,
        "execution": {
          "iopub.status.busy": "2024-10-23T12:11:43.562395Z",
          "iopub.execute_input": "2024-10-23T12:11:43.563868Z",
          "iopub.status.idle": "2024-10-23T12:11:43.623908Z",
          "shell.execute_reply": "2024-10-23T12:11:43.621905Z"
        },
        "id": "z557ISvuAlVy",
        "outputId": "a42fb80b-0352-493a-c1eb-3bbdea0537a2",
        "colab": {
          "base_uri": "https://localhost:8080/",
          "height": 69
        }
      },
      "outputs": [
        {
          "output_type": "display_data",
          "data": {
            "text/html": [
              "0"
            ],
            "text/markdown": "0",
            "text/latex": "0",
            "text/plain": [
              "[1] 0"
            ]
          },
          "metadata": {}
        },
        {
          "output_type": "display_data",
          "data": {
            "text/html": [
              "0"
            ],
            "text/markdown": "0",
            "text/latex": "0",
            "text/plain": [
              "[1] 0"
            ]
          },
          "metadata": {}
        },
        {
          "output_type": "display_data",
          "data": {
            "text/html": [
              "<style>\n",
              ".dl-inline {width: auto; margin:0; padding: 0}\n",
              ".dl-inline>dt, .dl-inline>dd {float: none; width: auto; display: inline-block}\n",
              ".dl-inline>dt::after {content: \":\\0020\"; padding-right: .5ex}\n",
              ".dl-inline>dt:not(:first-of-type) {padding-left: .5ex}\n",
              "</style><dl class=dl-inline><dt>DATE</dt><dd>0</dd><dt>STORE_NBR</dt><dd>0</dd><dt>LYLTY_CARD_NBR</dt><dd>0</dd><dt>TXN_ID</dt><dd>0</dd><dt>PROD_NBR</dt><dd>0</dd><dt>PROD_NAME</dt><dd>0</dd><dt>PROD_QTY</dt><dd>0</dd><dt>TOT_SALES</dt><dd>0</dd></dl>\n"
            ],
            "text/markdown": "DATE\n:   0STORE_NBR\n:   0LYLTY_CARD_NBR\n:   0TXN_ID\n:   0PROD_NBR\n:   0PROD_NAME\n:   0PROD_QTY\n:   0TOT_SALES\n:   0\n\n",
            "text/latex": "\\begin{description*}\n\\item[DATE] 0\n\\item[STORE\\textbackslash{}\\_NBR] 0\n\\item[LYLTY\\textbackslash{}\\_CARD\\textbackslash{}\\_NBR] 0\n\\item[TXN\\textbackslash{}\\_ID] 0\n\\item[PROD\\textbackslash{}\\_NBR] 0\n\\item[PROD\\textbackslash{}\\_NAME] 0\n\\item[PROD\\textbackslash{}\\_QTY] 0\n\\item[TOT\\textbackslash{}\\_SALES] 0\n\\end{description*}\n",
            "text/plain": [
              "          DATE      STORE_NBR LYLTY_CARD_NBR         TXN_ID       PROD_NBR \n",
              "             0              0              0              0              0 \n",
              "     PROD_NAME       PROD_QTY      TOT_SALES \n",
              "             0              0              0 "
            ]
          },
          "metadata": {}
        }
      ],
      "execution_count": null
    },
    {
      "cell_type": "code",
      "source": [
        "# Check summary statistics of the TOT_SALES column\n",
        "summary(transaction_data$TOT_SALES)\n"
      ],
      "metadata": {
        "trusted": true,
        "execution": {
          "iopub.status.busy": "2024-10-23T12:11:43.626822Z",
          "iopub.execute_input": "2024-10-23T12:11:43.628409Z",
          "iopub.status.idle": "2024-10-23T12:11:43.658416Z",
          "shell.execute_reply": "2024-10-23T12:11:43.656567Z"
        },
        "id": "3L6V0QAtAlVy",
        "outputId": "bd5382ec-650d-42f2-9150-74005e0707a4",
        "colab": {
          "base_uri": "https://localhost:8080/",
          "height": 52
        }
      },
      "outputs": [
        {
          "output_type": "display_data",
          "data": {
            "text/plain": [
              "   Min. 1st Qu.  Median    Mean 3rd Qu.    Max. \n",
              "  1.500   5.400   7.400   7.304   9.200 650.000 "
            ]
          },
          "metadata": {}
        }
      ],
      "execution_count": null
    },
    {
      "cell_type": "code",
      "source": [
        "# Calculate Q1 (25th percentile) and Q3 (75th percentile)\n",
        "Q1 <- quantile(transaction_data$TOT_SALES, 0.25, na.rm = TRUE)\n",
        "Q3 <- quantile(transaction_data$TOT_SALES, 0.75, na.rm = TRUE)\n",
        "\n",
        "# Calculate the interquartile range (IQR)\n",
        "IQR <- Q3 - Q1\n",
        "\n",
        "# Define the lower and upper bounds for outliers\n",
        "lower_bound <- Q1 - 1.5 * IQR\n",
        "upper_bound <- Q3 + 1.5 * IQR\n",
        "\n",
        "# Print the bounds\n",
        "print(paste(\"Lower Bound:\", lower_bound))\n",
        "print(paste(\"Upper Bound:\", upper_bound))\n"
      ],
      "metadata": {
        "trusted": true,
        "execution": {
          "iopub.status.busy": "2024-10-23T12:11:43.661231Z",
          "iopub.execute_input": "2024-10-23T12:11:43.662717Z",
          "iopub.status.idle": "2024-10-23T12:11:43.70742Z",
          "shell.execute_reply": "2024-10-23T12:11:43.705509Z"
        },
        "id": "iVNd-82KAlVy",
        "outputId": "f8ac82f6-112b-4fb7-cd97-6c333222cee8",
        "colab": {
          "base_uri": "https://localhost:8080/"
        }
      },
      "outputs": [
        {
          "output_type": "stream",
          "name": "stdout",
          "text": [
            "[1] \"Lower Bound: -0.299999999999998\"\n",
            "[1] \"Upper Bound: 14.9\"\n"
          ]
        }
      ],
      "execution_count": null
    },
    {
      "cell_type": "code",
      "source": [
        "# Filter the data to remove rows with outliers in TOT_SALES\n",
        "transaction_data_clean <- transaction_data %>%\n",
        "  filter(TOT_SALES >= lower_bound & TOT_SALES <= upper_bound)\n",
        "\n",
        "# Check the summary after removing outliers\n",
        "summary(transaction_data_clean$TOT_SALES)\n"
      ],
      "metadata": {
        "trusted": true,
        "execution": {
          "iopub.status.busy": "2024-10-23T12:11:43.710285Z",
          "iopub.execute_input": "2024-10-23T12:11:43.711777Z",
          "iopub.status.idle": "2024-10-23T12:11:43.766891Z",
          "shell.execute_reply": "2024-10-23T12:11:43.765122Z"
        },
        "id": "K_wSzslGAlVy",
        "outputId": "8b3c2f61-f9e7-498e-9bf7-e56c0c14ee43",
        "colab": {
          "base_uri": "https://localhost:8080/",
          "height": 52
        }
      },
      "outputs": [
        {
          "output_type": "display_data",
          "data": {
            "text/plain": [
              "   Min. 1st Qu.  Median    Mean 3rd Qu.    Max. \n",
              "  1.500   5.400   7.400   7.272   8.800  14.800 "
            ]
          },
          "metadata": {}
        }
      ],
      "execution_count": null
    },
    {
      "cell_type": "code",
      "source": [
        "# Histogram to visualize the cleaned TOT_SALES data\n",
        "hist(transaction_data_clean$TOT_SALES, main = \"Cleaned TOT_SALES Distribution\", xlab = \"TOT_SALES\", breaks = 30)\n"
      ],
      "metadata": {
        "trusted": true,
        "execution": {
          "iopub.status.busy": "2024-10-23T12:11:43.769531Z",
          "iopub.execute_input": "2024-10-23T12:11:43.771005Z",
          "iopub.status.idle": "2024-10-23T12:11:43.861544Z",
          "shell.execute_reply": "2024-10-23T12:11:43.859644Z"
        },
        "id": "MOXDmyb4AlVy",
        "outputId": "84ce8c93-03ec-4fec-84bd-a61a8141f9a5",
        "colab": {
          "base_uri": "https://localhost:8080/",
          "height": 437
        }
      },
      "outputs": [
        {
          "output_type": "display_data",
          "data": {
            "text/plain": [
              "Plot with title “Cleaned TOT_SALES Distribution”"
            ],
            "image/png": "[encoded data removed]"
          },
          "metadata": {
            "image/png": {
              "width": 420,
              "height": 420
            }
          }
        }
      ],
      "execution_count": null
    },
    {
      "cell_type": "markdown",
      "source": [
        "# Correcting Format Inconsistencies:\n",
        "Ensure numeric and categorical columns have the correct data types."
      ],
      "metadata": {
        "id": "2PE9dSd_AlVy"
      }
    },
    {
      "cell_type": "code",
      "source": [
        "# Convert the 'DATE' column to datetime format\n",
        "transaction_data$DATE <- as.Date(transaction_data$DATE, format=\"%Y-%m-%d\")"
      ],
      "metadata": {
        "trusted": true,
        "execution": {
          "iopub.status.busy": "2024-10-23T12:11:43.864272Z",
          "iopub.execute_input": "2024-10-23T12:11:43.865714Z",
          "iopub.status.idle": "2024-10-23T12:11:43.878947Z",
          "shell.execute_reply": "2024-10-23T12:11:43.877081Z"
        },
        "id": "eqCDKriXAlVy"
      },
      "outputs": [],
      "execution_count": null
    },
    {
      "cell_type": "code",
      "source": [
        "# Check the structure of both datasets (cleaned)\n",
        "str(transaction_data)\n",
        "str(purchase_data)"
      ],
      "metadata": {
        "trusted": true,
        "execution": {
          "iopub.status.busy": "2024-10-23T12:11:43.881533Z",
          "iopub.execute_input": "2024-10-23T12:11:43.882955Z",
          "iopub.status.idle": "2024-10-23T12:11:43.909611Z",
          "shell.execute_reply": "2024-10-23T12:11:43.907804Z"
        },
        "id": "5a6ZFzjiAlVy",
        "outputId": "a6d6b976-4743-41ba-ce39-e10732b48e5d",
        "colab": {
          "base_uri": "https://localhost:8080/"
        }
      },
      "outputs": [
        {
          "output_type": "stream",
          "name": "stdout",
          "text": [
            "tibble [264,836 × 8] (S3: tbl_df/tbl/data.frame)\n",
            " $ DATE          : Date[1:264836], format: \"2088-10-18\" \"2089-05-15\" ...\n",
            " $ STORE_NBR     : num [1:264836] 1 1 1 2 2 4 4 4 5 7 ...\n",
            " $ LYLTY_CARD_NBR: num [1:264836] 1000 1307 1343 2373 2426 ...\n",
            " $ TXN_ID        : num [1:264836] 1 348 383 974 1038 ...\n",
            " $ PROD_NBR      : num [1:264836] 5 66 61 69 108 57 16 24 42 52 ...\n",
            " $ PROD_NAME     : chr [1:264836] \"Natural Chip        Compny SeaSalt175g\" \"CCs Nacho Cheese    175g\" \"Smiths Crinkle Cut  Chips Chicken 170g\" \"Smiths Chip Thinly  S/Cream&Onion 175g\" ...\n",
            " $ PROD_QTY      : num [1:264836] 2 3 2 5 3 1 1 1 1 2 ...\n",
            " $ TOT_SALES     : num [1:264836] 6 6.3 2.9 15 13.8 5.1 5.7 3.6 3.9 7.2 ...\n",
            "'data.frame':\t72637 obs. of  3 variables:\n",
            " $ LYLTY_CARD_NBR  : int  1000 1002 1003 1004 1005 1007 1009 1010 1011 1012 ...\n",
            " $ LIFESTAGE       : chr  \"YOUNG SINGLES/COUPLES\" \"YOUNG SINGLES/COUPLES\" \"YOUNG FAMILIES\" \"OLDER SINGLES/COUPLES\" ...\n",
            " $ PREMIUM_CUSTOMER: chr  \"Premium\" \"Mainstream\" \"Budget\" \"Mainstream\" ...\n"
          ]
        }
      ],
      "execution_count": null
    },
    {
      "cell_type": "markdown",
      "source": [
        "# Merge the Cleaned Datasets:\n",
        "After cleaning both datasets, we can merge them for further analysis using the LYLTY_CARD_NBR column as unique identifiers."
      ],
      "metadata": {
        "id": "lDJCDZMxAlVz"
      }
    },
    {
      "cell_type": "code",
      "source": [
        "# Merge the cleaned datasets using the LYLTY_CARD_NBR column as unique identifiers.\n",
        "merged_data <- merge(transaction_data, purchase_data, by = \"LYLTY_CARD_NBR\", all = TRUE)\n",
        "\n",
        "# Preview the merged data\n",
        "head(merged_data)"
      ],
      "metadata": {
        "trusted": true,
        "execution": {
          "iopub.status.busy": "2024-10-23T12:11:43.912414Z",
          "iopub.execute_input": "2024-10-23T12:11:43.91388Z",
          "iopub.status.idle": "2024-10-23T12:11:44.539546Z",
          "shell.execute_reply": "2024-10-23T12:11:44.537738Z"
        },
        "id": "8Ow5mPOVAlVz",
        "outputId": "877bcb46-9f44-4432-ee29-7e84d5cd280b",
        "colab": {
          "base_uri": "https://localhost:8080/",
          "height": 286
        }
      },
      "outputs": [
        {
          "output_type": "display_data",
          "data": {
            "text/html": [
              "<table class=\"dataframe\">\n",
              "<caption>A data.frame: 6 × 10</caption>\n",
              "<thead>\n",
              "\t<tr><th></th><th scope=col>LYLTY_CARD_NBR</th><th scope=col>DATE</th><th scope=col>STORE_NBR</th><th scope=col>TXN_ID</th><th scope=col>PROD_NBR</th><th scope=col>PROD_NAME</th><th scope=col>PROD_QTY</th><th scope=col>TOT_SALES</th><th scope=col>LIFESTAGE</th><th scope=col>PREMIUM_CUSTOMER</th></tr>\n",
              "\t<tr><th></th><th scope=col>&lt;dbl&gt;</th><th scope=col>&lt;date&gt;</th><th scope=col>&lt;dbl&gt;</th><th scope=col>&lt;dbl&gt;</th><th scope=col>&lt;dbl&gt;</th><th scope=col>&lt;chr&gt;</th><th scope=col>&lt;dbl&gt;</th><th scope=col>&lt;dbl&gt;</th><th scope=col>&lt;chr&gt;</th><th scope=col>&lt;chr&gt;</th></tr>\n",
              "</thead>\n",
              "<tbody>\n",
              "\t<tr><th scope=row>1</th><td>1000</td><td>2088-10-18</td><td>1</td><td>1</td><td>  5</td><td>Natural Chip        Compny SeaSalt175g</td><td>2</td><td>6.0</td><td>YOUNG SINGLES/COUPLES </td><td>Premium   </td></tr>\n",
              "\t<tr><th scope=row>2</th><td>1002</td><td>2088-09-17</td><td>1</td><td>2</td><td> 58</td><td>Red Rock Deli Chikn&amp;Garlic Aioli 150g </td><td>1</td><td>2.7</td><td>YOUNG SINGLES/COUPLES </td><td>Mainstream</td></tr>\n",
              "\t<tr><th scope=row>3</th><td>1003</td><td>2089-03-08</td><td>1</td><td>3</td><td> 52</td><td><span style=white-space:pre-wrap>Grain Waves Sour    Cream&amp;Chives 210G </span></td><td>1</td><td>3.6</td><td><span style=white-space:pre-wrap>YOUNG FAMILIES        </span></td><td><span style=white-space:pre-wrap>Budget    </span></td></tr>\n",
              "\t<tr><th scope=row>4</th><td>1003</td><td>2089-03-09</td><td>1</td><td>4</td><td>106</td><td>Natural ChipCo      Hony Soy Chckn175g</td><td>1</td><td>3.0</td><td>YOUNG FAMILIES        </td><td>Budget    </td></tr>\n",
              "\t<tr><th scope=row>5</th><td>1004</td><td>2088-11-03</td><td>1</td><td>5</td><td> 96</td><td>WW Original Stacked Chips 160g        </td><td>1</td><td>1.9</td><td>OLDER SINGLES/COUPLES </td><td>Mainstream</td></tr>\n",
              "\t<tr><th scope=row>6</th><td>1005</td><td>2088-12-29</td><td>1</td><td>6</td><td> 86</td><td>Cheetos Puffs 165g                    </td><td>1</td><td>2.8</td><td>MIDAGE SINGLES/COUPLES</td><td>Mainstream</td></tr>\n",
              "</tbody>\n",
              "</table>\n"
            ],
            "text/markdown": "\nA data.frame: 6 × 10\n\n| <!--/--> | LYLTY_CARD_NBR &lt;dbl&gt; | DATE &lt;date&gt; | STORE_NBR &lt;dbl&gt; | TXN_ID &lt;dbl&gt; | PROD_NBR &lt;dbl&gt; | PROD_NAME &lt;chr&gt; | PROD_QTY &lt;dbl&gt; | TOT_SALES &lt;dbl&gt; | LIFESTAGE &lt;chr&gt; | PREMIUM_CUSTOMER &lt;chr&gt; |\n|---|---|---|---|---|---|---|---|---|---|---|\n| 1 | 1000 | 2088-10-18 | 1 | 1 |   5 | Natural Chip        Compny SeaSalt175g | 2 | 6.0 | YOUNG SINGLES/COUPLES  | Premium    |\n| 2 | 1002 | 2088-09-17 | 1 | 2 |  58 | Red Rock Deli Chikn&amp;Garlic Aioli 150g  | 1 | 2.7 | YOUNG SINGLES/COUPLES  | Mainstream |\n| 3 | 1003 | 2089-03-08 | 1 | 3 |  52 | Grain Waves Sour    Cream&amp;Chives 210G  | 1 | 3.6 | YOUNG FAMILIES         | Budget     |\n| 4 | 1003 | 2089-03-09 | 1 | 4 | 106 | Natural ChipCo      Hony Soy Chckn175g | 1 | 3.0 | YOUNG FAMILIES         | Budget     |\n| 5 | 1004 | 2088-11-03 | 1 | 5 |  96 | WW Original Stacked Chips 160g         | 1 | 1.9 | OLDER SINGLES/COUPLES  | Mainstream |\n| 6 | 1005 | 2088-12-29 | 1 | 6 |  86 | Cheetos Puffs 165g                     | 1 | 2.8 | MIDAGE SINGLES/COUPLES | Mainstream |\n\n",
            "text/latex": "A data.frame: 6 × 10\n\\begin{tabular}{r|llllllllll}\n  & LYLTY\\_CARD\\_NBR & DATE & STORE\\_NBR & TXN\\_ID & PROD\\_NBR & PROD\\_NAME & PROD\\_QTY & TOT\\_SALES & LIFESTAGE & PREMIUM\\_CUSTOMER\\\\\n  & <dbl> & <date> & <dbl> & <dbl> & <dbl> & <chr> & <dbl> & <dbl> & <chr> & <chr>\\\\\n\\hline\n\t1 & 1000 & 2088-10-18 & 1 & 1 &   5 & Natural Chip        Compny SeaSalt175g & 2 & 6.0 & YOUNG SINGLES/COUPLES  & Premium   \\\\\n\t2 & 1002 & 2088-09-17 & 1 & 2 &  58 & Red Rock Deli Chikn\\&Garlic Aioli 150g  & 1 & 2.7 & YOUNG SINGLES/COUPLES  & Mainstream\\\\\n\t3 & 1003 & 2089-03-08 & 1 & 3 &  52 & Grain Waves Sour    Cream\\&Chives 210G  & 1 & 3.6 & YOUNG FAMILIES         & Budget    \\\\\n\t4 & 1003 & 2089-03-09 & 1 & 4 & 106 & Natural ChipCo      Hony Soy Chckn175g & 1 & 3.0 & YOUNG FAMILIES         & Budget    \\\\\n\t5 & 1004 & 2088-11-03 & 1 & 5 &  96 & WW Original Stacked Chips 160g         & 1 & 1.9 & OLDER SINGLES/COUPLES  & Mainstream\\\\\n\t6 & 1005 & 2088-12-29 & 1 & 6 &  86 & Cheetos Puffs 165g                     & 1 & 2.8 & MIDAGE SINGLES/COUPLES & Mainstream\\\\\n\\end{tabular}\n",
            "text/plain": [
              "  LYLTY_CARD_NBR DATE       STORE_NBR TXN_ID PROD_NBR\n",
              "1 1000           2088-10-18 1         1        5     \n",
              "2 1002           2088-09-17 1         2       58     \n",
              "3 1003           2089-03-08 1         3       52     \n",
              "4 1003           2089-03-09 1         4      106     \n",
              "5 1004           2088-11-03 1         5       96     \n",
              "6 1005           2088-12-29 1         6       86     \n",
              "  PROD_NAME                              PROD_QTY TOT_SALES\n",
              "1 Natural Chip        Compny SeaSalt175g 2        6.0      \n",
              "2 Red Rock Deli Chikn&Garlic Aioli 150g  1        2.7      \n",
              "3 Grain Waves Sour    Cream&Chives 210G  1        3.6      \n",
              "4 Natural ChipCo      Hony Soy Chckn175g 1        3.0      \n",
              "5 WW Original Stacked Chips 160g         1        1.9      \n",
              "6 Cheetos Puffs 165g                     1        2.8      \n",
              "  LIFESTAGE              PREMIUM_CUSTOMER\n",
              "1 YOUNG SINGLES/COUPLES  Premium         \n",
              "2 YOUNG SINGLES/COUPLES  Mainstream      \n",
              "3 YOUNG FAMILIES         Budget          \n",
              "4 YOUNG FAMILIES         Budget          \n",
              "5 OLDER SINGLES/COUPLES  Mainstream      \n",
              "6 MIDAGE SINGLES/COUPLES Mainstream      "
            ]
          },
          "metadata": {}
        }
      ],
      "execution_count": null
    },
    {
      "cell_type": "markdown",
      "source": [
        "# Further Analysis: (Deriving Pack Size and Brand Name)\n",
        "I want to derive extra features such as pack size and brand name from the data and define metrics of interest to enable you to draw insights on who spends on chips and what drives spends for each customer segment.\n",
        "\n",
        "- Pack Size: We use a regular expression gsub(\"[^0-9]\", \"\", PROD_NAME) to extract numeric values from the product name, which typically represent the pack size\n",
        "  \n",
        "- Brand Name: We assume the first word of the product name is the brand"
      ],
      "metadata": {
        "id": "9wV0Itv4AlVz"
      }
    },
    {
      "cell_type": "code",
      "source": [
        "# Load required library\n",
        "library(dplyr)\n",
        "\n",
        "# 1. Derive Pack Size from PROD_NAME\n",
        "merged_data$PACK_SIZE <- as.numeric(gsub(\"[^0-9]\", \"\", merged_data$PROD_NAME))\n",
        "\n",
        "# 2. Derive Brand Name from PROD_NAME\n",
        "merged_data$BRAND_NAME <- sub(\" .*\", \"\", merged_data$PROD_NAME)\n",
        "\n",
        "# 3. Check the results\n",
        "head(merged_data[, c(\"PROD_NAME\", \"PACK_SIZE\", \"BRAND_NAME\")])\n"
      ],
      "metadata": {
        "trusted": true,
        "execution": {
          "iopub.status.busy": "2024-10-23T12:11:44.542301Z",
          "iopub.execute_input": "2024-10-23T12:11:44.543724Z",
          "iopub.status.idle": "2024-10-23T12:11:46.113122Z",
          "shell.execute_reply": "2024-10-23T12:11:46.111214Z"
        },
        "id": "Kv9vRe56AlVz",
        "outputId": "0daa58be-b798-4256-f443-f60691f96e21",
        "colab": {
          "base_uri": "https://localhost:8080/",
          "height": 286
        }
      },
      "outputs": [
        {
          "output_type": "display_data",
          "data": {
            "text/html": [
              "<table class=\"dataframe\">\n",
              "<caption>A data.frame: 6 × 3</caption>\n",
              "<thead>\n",
              "\t<tr><th></th><th scope=col>PROD_NAME</th><th scope=col>PACK_SIZE</th><th scope=col>BRAND_NAME</th></tr>\n",
              "\t<tr><th></th><th scope=col>&lt;chr&gt;</th><th scope=col>&lt;dbl&gt;</th><th scope=col>&lt;chr&gt;</th></tr>\n",
              "</thead>\n",
              "<tbody>\n",
              "\t<tr><th scope=row>1</th><td>Natural Chip        Compny SeaSalt175g</td><td>175</td><td>Natural</td></tr>\n",
              "\t<tr><th scope=row>2</th><td>Red Rock Deli Chikn&amp;Garlic Aioli 150g </td><td>150</td><td><span style=white-space:pre-wrap>Red    </span></td></tr>\n",
              "\t<tr><th scope=row>3</th><td><span style=white-space:pre-wrap>Grain Waves Sour    Cream&amp;Chives 210G </span></td><td>210</td><td><span style=white-space:pre-wrap>Grain  </span></td></tr>\n",
              "\t<tr><th scope=row>4</th><td>Natural ChipCo      Hony Soy Chckn175g</td><td>175</td><td>Natural</td></tr>\n",
              "\t<tr><th scope=row>5</th><td>WW Original Stacked Chips 160g        </td><td>160</td><td>WW     </td></tr>\n",
              "\t<tr><th scope=row>6</th><td>Cheetos Puffs 165g                    </td><td>165</td><td>Cheetos</td></tr>\n",
              "</tbody>\n",
              "</table>\n"
            ],
            "text/markdown": "\nA data.frame: 6 × 3\n\n| <!--/--> | PROD_NAME &lt;chr&gt; | PACK_SIZE &lt;dbl&gt; | BRAND_NAME &lt;chr&gt; |\n|---|---|---|---|\n| 1 | Natural Chip        Compny SeaSalt175g | 175 | Natural |\n| 2 | Red Rock Deli Chikn&amp;Garlic Aioli 150g  | 150 | Red     |\n| 3 | Grain Waves Sour    Cream&amp;Chives 210G  | 210 | Grain   |\n| 4 | Natural ChipCo      Hony Soy Chckn175g | 175 | Natural |\n| 5 | WW Original Stacked Chips 160g         | 160 | WW      |\n| 6 | Cheetos Puffs 165g                     | 165 | Cheetos |\n\n",
            "text/latex": "A data.frame: 6 × 3\n\\begin{tabular}{r|lll}\n  & PROD\\_NAME & PACK\\_SIZE & BRAND\\_NAME\\\\\n  & <chr> & <dbl> & <chr>\\\\\n\\hline\n\t1 & Natural Chip        Compny SeaSalt175g & 175 & Natural\\\\\n\t2 & Red Rock Deli Chikn\\&Garlic Aioli 150g  & 150 & Red    \\\\\n\t3 & Grain Waves Sour    Cream\\&Chives 210G  & 210 & Grain  \\\\\n\t4 & Natural ChipCo      Hony Soy Chckn175g & 175 & Natural\\\\\n\t5 & WW Original Stacked Chips 160g         & 160 & WW     \\\\\n\t6 & Cheetos Puffs 165g                     & 165 & Cheetos\\\\\n\\end{tabular}\n",
            "text/plain": [
              "  PROD_NAME                              PACK_SIZE BRAND_NAME\n",
              "1 Natural Chip        Compny SeaSalt175g 175       Natural   \n",
              "2 Red Rock Deli Chikn&Garlic Aioli 150g  150       Red       \n",
              "3 Grain Waves Sour    Cream&Chives 210G  210       Grain     \n",
              "4 Natural ChipCo      Hony Soy Chckn175g 175       Natural   \n",
              "5 WW Original Stacked Chips 160g         160       WW        \n",
              "6 Cheetos Puffs 165g                     165       Cheetos   "
            ]
          },
          "metadata": {}
        }
      ],
      "execution_count": null
    },
    {
      "cell_type": "markdown",
      "source": [
        "# Defining Metrics\n",
        "I defined metrics on who spends on chips and what drives spends for each customer segment."
      ],
      "metadata": {
        "id": "zQa5Akf3AlVz"
      }
    },
    {
      "cell_type": "code",
      "source": [
        "# Define metrics: Total sales, number of transactions, and average spend per brand\n",
        "brand_metrics <- merged_data %>%\n",
        "  group_by(BRAND_NAME) %>%\n",
        "  summarise(\n",
        "    Total_Sales = sum(TOT_SALES, na.rm = TRUE),\n",
        "    Transactions = n(),\n",
        "    Avg_Spend_Per_Transaction = mean(TOT_SALES, na.rm = TRUE)\n",
        "  )\n",
        "\n",
        "# View the summary\n",
        "head(brand_metrics)"
      ],
      "metadata": {
        "trusted": true,
        "execution": {
          "iopub.status.busy": "2024-10-23T12:11:46.116024Z",
          "iopub.execute_input": "2024-10-23T12:11:46.117527Z",
          "iopub.status.idle": "2024-10-23T12:11:46.22758Z",
          "shell.execute_reply": "2024-10-23T12:11:46.225719Z"
        },
        "jupyter": {
          "source_hidden": true
        },
        "id": "nAYyQQRhAlVz",
        "outputId": "206428cd-04c8-4222-a792-a45c8c55db3b",
        "colab": {
          "base_uri": "https://localhost:8080/",
          "height": 286
        }
      },
      "outputs": [
        {
          "output_type": "display_data",
          "data": {
            "text/html": [
              "<table class=\"dataframe\">\n",
              "<caption>A tibble: 6 × 4</caption>\n",
              "<thead>\n",
              "\t<tr><th scope=col>BRAND_NAME</th><th scope=col>Total_Sales</th><th scope=col>Transactions</th><th scope=col>Avg_Spend_Per_Transaction</th></tr>\n",
              "\t<tr><th scope=col>&lt;chr&gt;</th><th scope=col>&lt;dbl&gt;</th><th scope=col>&lt;int&gt;</th><th scope=col>&lt;dbl&gt;</th></tr>\n",
              "</thead>\n",
              "<tbody>\n",
              "\t<tr><td>Burger  </td><td> 6831.0</td><td>1564</td><td> 4.367647</td></tr>\n",
              "\t<tr><td>CCs     </td><td>18078.9</td><td>4551</td><td> 3.972512</td></tr>\n",
              "\t<tr><td>Cheetos </td><td>16884.5</td><td>2927</td><td> 5.768534</td></tr>\n",
              "\t<tr><td>Cheezels</td><td>40029.9</td><td>4603</td><td> 8.696481</td></tr>\n",
              "\t<tr><td>Cobs    </td><td>70569.8</td><td>9693</td><td> 7.280491</td></tr>\n",
              "\t<tr><td>Dorito  </td><td>40352.0</td><td>3185</td><td>12.669388</td></tr>\n",
              "</tbody>\n",
              "</table>\n"
            ],
            "text/markdown": "\nA tibble: 6 × 4\n\n| BRAND_NAME &lt;chr&gt; | Total_Sales &lt;dbl&gt; | Transactions &lt;int&gt; | Avg_Spend_Per_Transaction &lt;dbl&gt; |\n|---|---|---|---|\n| Burger   |  6831.0 | 1564 |  4.367647 |\n| CCs      | 18078.9 | 4551 |  3.972512 |\n| Cheetos  | 16884.5 | 2927 |  5.768534 |\n| Cheezels | 40029.9 | 4603 |  8.696481 |\n| Cobs     | 70569.8 | 9693 |  7.280491 |\n| Dorito   | 40352.0 | 3185 | 12.669388 |\n\n",
            "text/latex": "A tibble: 6 × 4\n\\begin{tabular}{llll}\n BRAND\\_NAME & Total\\_Sales & Transactions & Avg\\_Spend\\_Per\\_Transaction\\\\\n <chr> & <dbl> & <int> & <dbl>\\\\\n\\hline\n\t Burger   &  6831.0 & 1564 &  4.367647\\\\\n\t CCs      & 18078.9 & 4551 &  3.972512\\\\\n\t Cheetos  & 16884.5 & 2927 &  5.768534\\\\\n\t Cheezels & 40029.9 & 4603 &  8.696481\\\\\n\t Cobs     & 70569.8 & 9693 &  7.280491\\\\\n\t Dorito   & 40352.0 & 3185 & 12.669388\\\\\n\\end{tabular}\n",
            "text/plain": [
              "  BRAND_NAME Total_Sales Transactions Avg_Spend_Per_Transaction\n",
              "1 Burger      6831.0     1564          4.367647                \n",
              "2 CCs        18078.9     4551          3.972512                \n",
              "3 Cheetos    16884.5     2927          5.768534                \n",
              "4 Cheezels   40029.9     4603          8.696481                \n",
              "5 Cobs       70569.8     9693          7.280491                \n",
              "6 Dorito     40352.0     3185         12.669388                "
            ]
          },
          "metadata": {}
        }
      ],
      "execution_count": null
    },
    {
      "cell_type": "markdown",
      "source": [
        "# Customer segmentation Analysis\n",
        "I performed a deep dive into customer segments using LIFESTAGE and PREMIUM_CUSTOMER columns.\n",
        "I also identified high-value segments based on chip purchasing behavior.\n",
        "\n",
        "This analysis will help us understand purchasing patterns based on different life stages and customer premium status, leading to actionable insights.\n",
        "\n",
        "# Steps for Deep Dive:\n",
        "- Group by LIFESTAGE and PREMIUM_CUSTOMER: We'll summarize total sales, average transaction size, and total number of transactions for each segment.\n",
        "- Identify High-Value Segments: We can define high-value segments as those with the highest total sales or the highest average spend per customer.\n",
        "- Visualize the Findings: Create visualizations to make the insights clear."
      ],
      "metadata": {
        "id": "3fPU7t8rAlVz"
      }
    },
    {
      "cell_type": "code",
      "source": [
        "# Load necessary libraries\n",
        "library(ggplot2)\n",
        "\n",
        "# Summarize data by LIFESTAGE and PREMIUM_CUSTOMER\n",
        "segment_analysis <- merged_data  %>%\n",
        "  group_by(LIFESTAGE, PREMIUM_CUSTOMER) %>%\n",
        "  summarise(\n",
        "    Total_Sales = sum(TOT_SALES, na.rm = TRUE),\n",
        "    Avg_Transaction_Size = mean(TOT_SALES, na.rm = TRUE),\n",
        "    Transaction_Count = n()\n",
        "  ) %>%\n",
        "  arrange(desc(Total_Sales))\n",
        "\n",
        "# View the segment analysis summary\n",
        "head(segment_analysis)\n",
        "\n",
        "# Identify high-value segments by highest Total_Sales and Avg_Transaction_Size\n",
        "high_value_segments <- segment_analysis %>%\n",
        "  filter(Total_Sales > quantile(Total_Sales, 0.75) | Avg_Transaction_Size > quantile(Avg_Transaction_Size, 0.75))\n",
        "\n",
        "# Visualize total sales by LIFESTAGE and PREMIUM_CUSTOMER with wider bars and slanted x-axis labels\n",
        "ggplot(segment_analysis, aes(x = LIFESTAGE, y = Total_Sales, fill = PREMIUM_CUSTOMER)) +\n",
        "  geom_bar(stat = \"identity\", position = \"dodge\", width = 0.9) +  # Adjust bar width here\n",
        "  labs(title = \"Total Sales by Customer Segment (LIFESTAGE & PREMIUM_CUSTOMER)\",\n",
        "       x = \"Lifestage\", y = \"Total Sales\") +\n",
        "  theme_minimal() +\n",
        "  theme(axis.text.x = element_text(angle = 45, hjust = 1))\n",
        "\n"
      ],
      "metadata": {
        "trusted": true,
        "execution": {
          "iopub.status.busy": "2024-10-23T12:11:46.230425Z",
          "iopub.execute_input": "2024-10-23T12:11:46.23194Z",
          "iopub.status.idle": "2024-10-23T12:11:46.836814Z",
          "shell.execute_reply": "2024-10-23T12:11:46.834847Z"
        },
        "id": "r6hbwmmHAlVz",
        "outputId": "11054b60-9e73-4a24-f3dd-bd68a9beef2b",
        "colab": {
          "base_uri": "https://localhost:8080/",
          "height": 741
        }
      },
      "outputs": [
        {
          "output_type": "stream",
          "name": "stderr",
          "text": [
            "\u001b[1m\u001b[22m`summarise()` has grouped output by 'LIFESTAGE'. You can override using the\n",
            "`.groups` argument.\n"
          ]
        },
        {
          "output_type": "display_data",
          "data": {
            "text/html": [
              "<table class=\"dataframe\">\n",
              "<caption>A grouped_df: 6 × 5</caption>\n",
              "<thead>\n",
              "\t<tr><th scope=col>LIFESTAGE</th><th scope=col>PREMIUM_CUSTOMER</th><th scope=col>Total_Sales</th><th scope=col>Avg_Transaction_Size</th><th scope=col>Transaction_Count</th></tr>\n",
              "\t<tr><th scope=col>&lt;chr&gt;</th><th scope=col>&lt;chr&gt;</th><th scope=col>&lt;dbl&gt;</th><th scope=col>&lt;dbl&gt;</th><th scope=col>&lt;int&gt;</th></tr>\n",
              "</thead>\n",
              "<tbody>\n",
              "\t<tr><td>OLDER FAMILIES       </td><td>Budget    </td><td>168363.2</td><td>7.269570</td><td>23160</td></tr>\n",
              "\t<tr><td>YOUNG SINGLES/COUPLES</td><td>Mainstream</td><td>157621.6</td><td>7.558339</td><td>20854</td></tr>\n",
              "\t<tr><td>RETIREES             </td><td>Mainstream</td><td>155677.0</td><td>7.252262</td><td>21466</td></tr>\n",
              "\t<tr><td>YOUNG FAMILIES       </td><td>Budget    </td><td>139345.9</td><td>7.287201</td><td>19122</td></tr>\n",
              "\t<tr><td>OLDER SINGLES/COUPLES</td><td>Budget    </td><td>136769.8</td><td>7.430315</td><td>18407</td></tr>\n",
              "\t<tr><td>OLDER SINGLES/COUPLES</td><td>Mainstream</td><td>133393.8</td><td>7.282116</td><td>18318</td></tr>\n",
              "</tbody>\n",
              "</table>\n"
            ],
            "text/markdown": "\nA grouped_df: 6 × 5\n\n| LIFESTAGE &lt;chr&gt; | PREMIUM_CUSTOMER &lt;chr&gt; | Total_Sales &lt;dbl&gt; | Avg_Transaction_Size &lt;dbl&gt; | Transaction_Count &lt;int&gt; |\n|---|---|---|---|---|\n| OLDER FAMILIES        | Budget     | 168363.2 | 7.269570 | 23160 |\n| YOUNG SINGLES/COUPLES | Mainstream | 157621.6 | 7.558339 | 20854 |\n| RETIREES              | Mainstream | 155677.0 | 7.252262 | 21466 |\n| YOUNG FAMILIES        | Budget     | 139345.9 | 7.287201 | 19122 |\n| OLDER SINGLES/COUPLES | Budget     | 136769.8 | 7.430315 | 18407 |\n| OLDER SINGLES/COUPLES | Mainstream | 133393.8 | 7.282116 | 18318 |\n\n",
            "text/latex": "A grouped\\_df: 6 × 5\n\\begin{tabular}{lllll}\n LIFESTAGE & PREMIUM\\_CUSTOMER & Total\\_Sales & Avg\\_Transaction\\_Size & Transaction\\_Count\\\\\n <chr> & <chr> & <dbl> & <dbl> & <int>\\\\\n\\hline\n\t OLDER FAMILIES        & Budget     & 168363.2 & 7.269570 & 23160\\\\\n\t YOUNG SINGLES/COUPLES & Mainstream & 157621.6 & 7.558339 & 20854\\\\\n\t RETIREES              & Mainstream & 155677.0 & 7.252262 & 21466\\\\\n\t YOUNG FAMILIES        & Budget     & 139345.9 & 7.287201 & 19122\\\\\n\t OLDER SINGLES/COUPLES & Budget     & 136769.8 & 7.430315 & 18407\\\\\n\t OLDER SINGLES/COUPLES & Mainstream & 133393.8 & 7.282116 & 18318\\\\\n\\end{tabular}\n",
            "text/plain": [
              "  LIFESTAGE             PREMIUM_CUSTOMER Total_Sales Avg_Transaction_Size\n",
              "1 OLDER FAMILIES        Budget           168363.2    7.269570            \n",
              "2 YOUNG SINGLES/COUPLES Mainstream       157621.6    7.558339            \n",
              "3 RETIREES              Mainstream       155677.0    7.252262            \n",
              "4 YOUNG FAMILIES        Budget           139345.9    7.287201            \n",
              "5 OLDER SINGLES/COUPLES Budget           136769.8    7.430315            \n",
              "6 OLDER SINGLES/COUPLES Mainstream       133393.8    7.282116            \n",
              "  Transaction_Count\n",
              "1 23160            \n",
              "2 20854            \n",
              "3 21466            \n",
              "4 19122            \n",
              "5 18407            \n",
              "6 18318            "
            ]
          },
          "metadata": {}
        },
        {
          "output_type": "display_data",
          "data": {
            "text/plain": [
              "plot without title"
            ],
            "image/png": "[encoded data removed]"
          },
          "metadata": {
            "image/png": {
              "width": 420,
              "height": 420
            }
          }
        }
      ],
      "execution_count": null
    },
    {
      "cell_type": "markdown",
      "source": [
        "# Insights:\n",
        "- By focusing on these high-value segments, i identified Older Families and Young Singles/Coulples as the top 2 customer segments who are Budget and Mainstream Premium customers respectively, that contribute the most to chip sales.\n",
        "- This analysis will provide the Category Manager (Julia) with clear, actionable insights for the category review, allowing her to target the most valuable segments for promotions or product offerings."
      ],
      "metadata": {
        "id": "RPwDgXuMAlVz"
      }
    }
  ]
}